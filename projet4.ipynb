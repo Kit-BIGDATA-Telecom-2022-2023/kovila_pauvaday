{
 "cells": [
  {
   "cell_type": "markdown",
   "metadata": {},
   "source": [
    "# Projet maison n° 4"
   ]
  },
  {
   "cell_type": "code",
   "execution_count": 1,
   "metadata": {},
   "outputs": [],
   "source": [
    "# imports\n",
    "import re\n",
    "import requests\n",
    "from bs4 import BeautifulSoup"
   ]
  },
  {
   "cell_type": "markdown",
   "metadata": {},
   "source": [
    "**Partie A**\n",
    "\n",
    "Ecrire une fonction `get_prices_from_url()` qui extrait des informations à partir des 2 pages ci-dessous.\n",
    "\n",
    "```python\n",
    "URL_PAGE2 = \"https://kim.fspot.org/cours/page2.html\"\n",
    "URL_PAGE3 = \"https://kim.fspot.org/cours/page3.html\"\n",
    "```\n",
    "\n",
    "Avec `URL_PAGE2`, la fonction doit retourner :\n",
    "\n",
    "```json\n",
    "{'Personal': {'price': '$5', 'storage': '1GB', 'databases': 1},\n",
    " 'Small Business': {'price': '$25', 'storage': '10GB', 'databases': 5},\n",
    " 'Enterprise': {'price': '$45', 'storage': '100GB', 'databases': 25}}\n",
    "```"
   ]
  },
  {
   "cell_type": "code",
   "execution_count": 2,
   "metadata": {},
   "outputs": [],
   "source": [
    "# partie A\n",
    "URL_PAGE2 = \"https://kim.fspot.org/cours/page2.html\"\n",
    "URL_PAGE3 = \"https://kim.fspot.org/cours/page3.html\"\n",
    "\n",
    "def get_prices_from_url(url):\n",
    "    r = requests.get(url)\n",
    "    soup = BeautifulSoup(r.content)\n",
    "    \n",
    "    prices = {}\n",
    "    \n",
    "    # add headings to dictionary\n",
    "    for heading2 in soup.find_all('h2'):\n",
    "        prices[heading2.text] = {}\n",
    "    \n",
    "    # add prices to dictionary\n",
    "    heading_index = -1\n",
    "    for item in soup.find_all('span', attrs={'class':\"pricing-table-price\"}):\n",
    "        heading_index = heading_index + 1\n",
    "        prices[list(prices.keys())[heading_index]]['price'] = '$' + re.search('([0-9]+)',item.text).group(0)\n",
    "        \n",
    "    # add storage and databases to dictionary\n",
    "    heading_index = -1\n",
    "    for ul_item in soup.find_all('ul', attrs={'class':\"pricing-table-list\"}):\n",
    "        heading_index = heading_index + 1\n",
    "\n",
    "        for li_item in ul_item.find_all('li'):\n",
    "\n",
    "            storage = re.search('[0-9]+(G|T)B file storage', li_item.text)\n",
    "            databases = re.search('[0-9]+ database(s)?', li_item.text)\n",
    "            if storage is not None:\n",
    "                storage_unit = re.search('[0-9]+(G|T)B', storage.group(0))\n",
    "                storage_unit = re.search('[A-Za-z]+', storage_unit.group(0)).group(0)\n",
    "                prices[list(prices.keys())[heading_index]]['storage'] = re.search('[0-9]+', storage.group(0)).group(0) + storage_unit\n",
    "        \n",
    "            if databases is not None:\n",
    "                prices[list(prices.keys())[heading_index]]['databases'] = int(re.search('[0-9]+', databases.group(0)).group(0))\n",
    "    \n",
    "    # sort each sub_dictionary\n",
    "    for i in range(len(prices)):\n",
    "        prices[list(prices.keys())[i]] = dict(sorted(prices[list(prices.keys())[i]].items()))\n",
    "        \n",
    "    return dict(prices)"
   ]
  },
  {
   "cell_type": "code",
   "execution_count": 3,
   "metadata": {},
   "outputs": [
    {
     "data": {
      "text/plain": [
       "{'Personal': {'databases': 1, 'price': '$5', 'storage': '1GB'},\n",
       " 'Small Business': {'databases': 5, 'price': '$25', 'storage': '10GB'},\n",
       " 'Enterprise': {'databases': 25, 'price': '$45', 'storage': '100GB'},\n",
       " 'Privilege': {'databases': 100, 'price': '$99', 'storage': '1TB'}}"
      ]
     },
     "execution_count": 3,
     "metadata": {},
     "output_type": "execute_result"
    }
   ],
   "source": [
    "# test get_prices_from_url(url)\n",
    "get_prices_from_url(URL_PAGE3)"
   ]
  },
  {
   "cell_type": "markdown",
   "metadata": {},
   "source": [
    "**Partie B**\n",
    "\n",
    "*L'abus d'alcool est dangereux pour la santé, à consommer avec modération.*\n",
    "\n",
    "1) Ecrire une fonction `extract_beer_infos()` qui extrait des informations sur une bière du site de bières *beowulf*.\n",
    "\n",
    "Exemple d'URL: https://www.beerwulf.com/fr-fr/p/bieres/cuvee-des-trolls.33 \n",
    "\n",
    "La fonction doit retourner :\n",
    "```json\n",
    "{'Nom': 'Cuvée des Trolls',\n",
    " 'Style': 'Bière Blonde',\n",
    " 'Contenu': 25,\n",
    " 'Degré d’alcool': 7.0,\n",
    " 'Origine': 'Belgique',\n",
    " 'Brasseur': 'Brasserie Dubuisson Freres'}\n",
    "```\n",
    "\n",
    "2) L'URL ci-après retourne un JSON avec une liste de bières :\n",
    "\n",
    "```python\n",
    "URL_BEERLIST_FRANCE = \"https://www.beerwulf.com/fr-FR/api/search/searchProducts?country=France&container=Bouteille\"\n",
    "```\n",
    "\n",
    "Ecrire une fonction `extract_beer_list_infos(url)` qui prend en argument cet URL et retourne les informations sur une liste de bières du site *beowulf*.\n",
    "\n",
    "Cette fonction doit retourner la liste des informations obtenues par la fonction précédemment définie `extract_beer_infos()`.\n",
    "\n",
    "Exemple de retour :\n",
    "\n",
    "```json\n",
    "[{'Nom':'Desperados','Style':'Lager','Contenu':33,'Degré d’alcool':5.9,'Origine':'France','Brasseur':'Desperados'},\n",
    "{'Nom':'La Lager Sans Gluten de Vézelay','Style':'Lager','Contenu':25,'Degré d’alcool':4.0,'Origine':'France','Brasseur':'Brasserie de Vézelay'},\n",
    "{'Nom':'Mélusine Bio','Style':'Pale Ale','Contenu': 33,'Degré d’alcool': 5.0,'Origine':'France','Brasseur':'Mélusine'},\n",
    "{'Nom':'La Parisienne Le Titi Parisien','Style':'IPA','Contenu':33,'Degré d’alcool':5.5,'Origine':'France','Brasseur': 'Brasserie la Parisienne'},\n",
    "{'Nom':'Brasserie De Sutter Brin de Folie','Style':'Bière Blonde','Contenu': 33,'Degré d’alcool':6.5,'Origine':'France','Brasseur':'Brasserie de Sutter'}]\n",
    "```\n",
    "\n",
    "**Facultatif**\n",
    "\n",
    "Chercher comment optimiser cette fonction en utilisant `multiprocessing.Pool()` pour paralléliser les accès web."
   ]
  },
  {
   "cell_type": "code",
   "execution_count": 4,
   "metadata": {},
   "outputs": [],
   "source": [
    "url_partie_b1 = 'https://www.beerwulf.com/fr-fr/p/bieres/gallia-west-ipa-fut--2l'\n",
    "# partie B-1\n",
    "def extract_beer_infos(url):\n",
    "    beer_infos = {\n",
    "        'Nom': None,\n",
    "        'Style': None,\n",
    "        'Contenu': None,\n",
    "        'Degré d’alcool': None,\n",
    "        'Origine': None,\n",
    "        'Brasseur': None\n",
    "    }\n",
    "    \n",
    "    # get url information\n",
    "    response = requests.get(url)\n",
    "    soup = BeautifulSoup(response.content)\n",
    "\n",
    "    \n",
    "    # Nom\n",
    "    for item in soup.find_all('h1', attrs={'class':\"product-name\"}):\n",
    "        beer_infos['Nom'] = item.text\n",
    "        \n",
    "    for item in soup.find_all('td', attrs={'class':\"header\"}):\n",
    "        \n",
    "        if item.text == 'Style':\n",
    "            beer_infos['Style'] = item.find_next().text\n",
    "        \n",
    "        elif item.text == 'Contenu':\n",
    "            beer_infos['Contenu'] = int(re.search('[0-9]+', item.find_next().text).group(0))\n",
    "        \n",
    "        elif item.text == \"Degré d’alcool\":\n",
    "            beer_infos['Degré d’alcool'] = float(re.search('[0-9]+(,[0-9]+)?', item.find_next().text).group(0).replace(',','.'))\n",
    "        \n",
    "        elif item.text == 'Origine':\n",
    "            beer_infos['Origine'] = re.search('[A-Za-z]+',item.find_next().text).group(0)\n",
    "        \n",
    "        elif item.text == 'Brasseur':\n",
    "            beer_infos['Brasseur'] = re.search('[A-Za-z]+', item.find_next().text).group(0)\n",
    "\n",
    "    return beer_infos"
   ]
  },
  {
   "cell_type": "code",
   "execution_count": 5,
   "metadata": {},
   "outputs": [
    {
     "data": {
      "text/plain": [
       "{'Nom': 'Gallia West IPA - Fût 2L The SUB',\n",
       " 'Style': 'IPA',\n",
       " 'Contenu': 2,\n",
       " 'Degré d’alcool': 6.0,\n",
       " 'Origine': 'France',\n",
       " 'Brasseur': 'Gallia'}"
      ]
     },
     "execution_count": 5,
     "metadata": {},
     "output_type": "execute_result"
    }
   ],
   "source": [
    "# Test extract_beer_infos(url)\n",
    "extract_beer_infos(url_partie_b1)"
   ]
  },
  {
   "cell_type": "code",
   "execution_count": 6,
   "metadata": {},
   "outputs": [],
   "source": [
    "# partie B-2\n",
    "URL_BEERLIST_FRANCE = \"https://www.beerwulf.com/fr-FR/api/search/searchProducts?country=France&container=Bouteille\"\n",
    "URL_HOME = 'https://www.beerwulf.com'\n",
    "\n",
    "def extract_beer_list_infos(url):\n",
    "    # Collecter les pages de bières à partir du JSON\n",
    "    r = requests.get(URL_BEERLIST_FRANCE)\n",
    "    body = r.json()\n",
    "\n",
    "    beer_pages = []\n",
    "    \n",
    "    for i in range(len(body['items'])):\n",
    "        beer_pages.append(body['items'][i]['contentReference'])\n",
    "        \n",
    "    # Sequential version (slow):\n",
    "    beers = []\n",
    "    for page in beer_pages:\n",
    "        beers.append(extract_beer_infos(URL_HOME + page))\n",
    "        \n",
    "    # Facultatif\n",
    "    # Parallel version (faster):\n",
    "    # beers = []\n",
    "    \n",
    "    return beers"
   ]
  },
  {
   "cell_type": "code",
   "execution_count": 7,
   "metadata": {},
   "outputs": [
    {
     "data": {
      "text/plain": [
       "[{'Nom': 'La Cristal IPA du Mont Blanc',\n",
       "  'Style': 'IPA',\n",
       "  'Contenu': 33,\n",
       "  'Degré d’alcool': 4.7,\n",
       "  'Origine': 'France',\n",
       "  'Brasseur': 'Mont'},\n",
       " {'Nom': 'Ninkasi Pale Ale',\n",
       "  'Style': 'Bière Ambrée',\n",
       "  'Contenu': 33,\n",
       "  'Degré d’alcool': 4.5,\n",
       "  'Origine': 'France',\n",
       "  'Brasseur': 'Ninkasi'},\n",
       " {'Nom': 'Desperados',\n",
       "  'Style': 'Lager',\n",
       "  'Contenu': 33,\n",
       "  'Degré d’alcool': 5.9,\n",
       "  'Origine': 'France',\n",
       "  'Brasseur': 'Desperados'},\n",
       " {'Nom': 'Pietra',\n",
       "  'Style': 'Lager',\n",
       "  'Contenu': 33,\n",
       "  'Degré d’alcool': 6.0,\n",
       "  'Origine': 'France',\n",
       "  'Brasseur': 'Brasserie'}]"
      ]
     },
     "execution_count": 7,
     "metadata": {},
     "output_type": "execute_result"
    }
   ],
   "source": [
    "# test extract_beer_list_infos\n",
    "extract_beer_list_infos(URL_BEERLIST_FRANCE)"
   ]
  },
  {
   "cell_type": "code",
   "execution_count": 8,
   "metadata": {},
   "outputs": [],
   "source": [
    "import unittest\n",
    "\n",
    "class Session4Tests(unittest.TestCase):\n",
    "    def test_01_get_prices_from_url_page2(self):\n",
    "        prices = get_prices_from_url(URL_PAGE2)\n",
    "        # We should have found 3 products:\n",
    "        self.assertIsInstance(prices, dict)\n",
    "        self.assertEqual(len(prices), 3)\n",
    "        self.assertIn('Personal', prices)\n",
    "        self.assertIn('Small Business', prices)\n",
    "        self.assertIn('Enterprise', prices)\n",
    "        \n",
    "        personal = prices['Personal']\n",
    "        self.assertIn('price', personal)\n",
    "        self.assertIn('storage', personal)\n",
    "        self.assertIn('databases', personal)\n",
    "        self.assertEqual(personal['price'], '$5')\n",
    "        self.assertEqual(personal['storage'], '1GB')\n",
    "        self.assertEqual(personal['databases'], 1)\n",
    "        \n",
    "    def test_02_get_prices_from_url_page3(self):\n",
    "        prices = get_prices_from_url(URL_PAGE3)\n",
    "        self.assertIsInstance(prices, dict)\n",
    "        self.assertEqual(len(prices), 4)\n",
    "        self.assertEqual(\n",
    "            prices['Privilege'],\n",
    "            {'databases': 100, 'price': '$99', 'storage': '1TB'}\n",
    "        )\n",
    "    \n",
    "    def test_03_extract_beer_list_infos(self):\n",
    "        infos = extract_beer_list_infos(URL_BEERLIST_FRANCE)\n",
    "        self.assertIsInstance(infos, list)\n",
    "        self.assertGreater(len(infos), 1)\n",
    "        # Contenu = int\n",
    "        # Degré d’alcool = float\n",
    "        for beer in infos:\n",
    "            self.assertIsInstance(beer['Nom'], str)\n",
    "            self.assertIsInstance(beer['Style'], str)\n",
    "            self.assertIsInstance(beer['Contenu'], int)\n",
    "            self.assertIsInstance(beer['Degré d’alcool'], float)\n",
    "            self.assertEqual(beer['Origine'], \"France\")\n",
    "            self.assertIsInstance(beer['Brasseur'], str)\n",
    "\n",
    "            \n",
    "def run_tests():\n",
    "    test_suite = unittest.makeSuite(Session4Tests)\n",
    "    runner = unittest.TextTestRunner(verbosity=2)\n",
    "    runner.run(test_suite)"
   ]
  },
  {
   "cell_type": "code",
   "execution_count": 9,
   "metadata": {},
   "outputs": [
    {
     "name": "stderr",
     "output_type": "stream",
     "text": [
      "test_01_get_prices_from_url_page2 (__main__.Session4Tests) ... ok\n",
      "test_02_get_prices_from_url_page3 (__main__.Session4Tests) ... ok\n",
      "test_03_extract_beer_list_infos (__main__.Session4Tests) ... ok\n",
      "\n",
      "----------------------------------------------------------------------\n",
      "Ran 3 tests in 1.379s\n",
      "\n",
      "OK\n"
     ]
    }
   ],
   "source": [
    "if __name__ == '__main__':\n",
    "    run_tests()"
   ]
  },
  {
   "cell_type": "code",
   "execution_count": null,
   "metadata": {},
   "outputs": [],
   "source": []
  }
 ],
 "metadata": {
  "kernelspec": {
   "display_name": "Python 3",
   "language": "python",
   "name": "python3"
  },
  "language_info": {
   "codemirror_mode": {
    "name": "ipython",
    "version": 3
   },
   "file_extension": ".py",
   "mimetype": "text/x-python",
   "name": "python",
   "nbconvert_exporter": "python",
   "pygments_lexer": "ipython3",
   "version": "3.8.8"
  }
 },
 "nbformat": 4,
 "nbformat_minor": 4
}
